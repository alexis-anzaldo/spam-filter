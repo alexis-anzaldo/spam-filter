{
 "cells": [
  {
   "cell_type": "code",
   "execution_count": 46,
   "id": "a9396b5e-9e38-4422-b8e3-8ee1b035030f",
   "metadata": {},
   "outputs": [],
   "source": [
    "#!pip install pandas\n",
    "#!pip install nltk\n",
    "#!pip install scikit-learn\n",
    "#!pip install mlflow\n",
    "#!pip install streamlit"
   ]
  },
  {
   "cell_type": "code",
   "execution_count": 18,
   "id": "e2cd530d-80f5-4229-a325-d07edcbec096",
   "metadata": {},
   "outputs": [],
   "source": [
    "df = pd.read_csv(\"data/spam.csv\", encoding='latin1') "
   ]
  },
  {
   "cell_type": "code",
   "execution_count": 19,
   "id": "eb3cd419-211d-4fe9-90f8-3d867adcb435",
   "metadata": {},
   "outputs": [
    {
     "data": {
      "text/html": [
       "<div>\n",
       "<style scoped>\n",
       "    .dataframe tbody tr th:only-of-type {\n",
       "        vertical-align: middle;\n",
       "    }\n",
       "\n",
       "    .dataframe tbody tr th {\n",
       "        vertical-align: top;\n",
       "    }\n",
       "\n",
       "    .dataframe thead th {\n",
       "        text-align: right;\n",
       "    }\n",
       "</style>\n",
       "<table border=\"1\" class=\"dataframe\">\n",
       "  <thead>\n",
       "    <tr style=\"text-align: right;\">\n",
       "      <th></th>\n",
       "      <th>v1</th>\n",
       "      <th>v2</th>\n",
       "      <th>Unnamed: 2</th>\n",
       "      <th>Unnamed: 3</th>\n",
       "      <th>Unnamed: 4</th>\n",
       "    </tr>\n",
       "  </thead>\n",
       "  <tbody>\n",
       "    <tr>\n",
       "      <th>0</th>\n",
       "      <td>ham</td>\n",
       "      <td>Go until jurong point, crazy.. Available only ...</td>\n",
       "      <td>NaN</td>\n",
       "      <td>NaN</td>\n",
       "      <td>NaN</td>\n",
       "    </tr>\n",
       "    <tr>\n",
       "      <th>1</th>\n",
       "      <td>ham</td>\n",
       "      <td>Ok lar... Joking wif u oni...</td>\n",
       "      <td>NaN</td>\n",
       "      <td>NaN</td>\n",
       "      <td>NaN</td>\n",
       "    </tr>\n",
       "    <tr>\n",
       "      <th>2</th>\n",
       "      <td>spam</td>\n",
       "      <td>Free entry in 2 a wkly comp to win FA Cup fina...</td>\n",
       "      <td>NaN</td>\n",
       "      <td>NaN</td>\n",
       "      <td>NaN</td>\n",
       "    </tr>\n",
       "    <tr>\n",
       "      <th>3</th>\n",
       "      <td>ham</td>\n",
       "      <td>U dun say so early hor... U c already then say...</td>\n",
       "      <td>NaN</td>\n",
       "      <td>NaN</td>\n",
       "      <td>NaN</td>\n",
       "    </tr>\n",
       "    <tr>\n",
       "      <th>4</th>\n",
       "      <td>ham</td>\n",
       "      <td>Nah I don't think he goes to usf, he lives aro...</td>\n",
       "      <td>NaN</td>\n",
       "      <td>NaN</td>\n",
       "      <td>NaN</td>\n",
       "    </tr>\n",
       "  </tbody>\n",
       "</table>\n",
       "</div>"
      ],
      "text/plain": [
       "     v1                                                 v2 Unnamed: 2  \\\n",
       "0   ham  Go until jurong point, crazy.. Available only ...        NaN   \n",
       "1   ham                      Ok lar... Joking wif u oni...        NaN   \n",
       "2  spam  Free entry in 2 a wkly comp to win FA Cup fina...        NaN   \n",
       "3   ham  U dun say so early hor... U c already then say...        NaN   \n",
       "4   ham  Nah I don't think he goes to usf, he lives aro...        NaN   \n",
       "\n",
       "  Unnamed: 3 Unnamed: 4  \n",
       "0        NaN        NaN  \n",
       "1        NaN        NaN  \n",
       "2        NaN        NaN  \n",
       "3        NaN        NaN  \n",
       "4        NaN        NaN  "
      ]
     },
     "execution_count": 19,
     "metadata": {},
     "output_type": "execute_result"
    }
   ],
   "source": [
    "df.head()"
   ]
  },
  {
   "cell_type": "code",
   "execution_count": 24,
   "id": "86359735-c279-47f7-b7dc-2cd9c5f32567",
   "metadata": {},
   "outputs": [],
   "source": [
    "import pandas as pd\n",
    "\n",
    "# define function\n",
    "def load_save_data(load_file_path, save_file_path):     \n",
    "    # read csv    \n",
    "    df = pd.read_csv(load_file_path, encoding='latin1')    \n",
    "    # select target columns\n",
    "    df = df[['v2','v1']]\n",
    "    # Rename column names\n",
    "    df.rename(columns={\"v2\": \"message\", \"v1\":\"label\"}, inplace=True)\n",
    "    \n",
    "    # dropping ham rows    \n",
    "    idxs = df[df['label']=='ham'].index[:1825]\n",
    "    df.drop(idxs, inplace=True)    \n",
    "    # shuffle the DataFrame rows\n",
    "    df = df.sample(frac = 1)\n",
    "    df.reset_index(inplace=True, drop=True)    \n",
    "    # save csv\n",
    "    df.to_csv(save_file_path, index=False)\n",
    "    print(f\"File saved as: {save_file_path}\")"
   ]
  },
  {
   "cell_type": "code",
   "execution_count": 25,
   "id": "24d13990-30e0-497f-a5ba-01c8b0a51fa1",
   "metadata": {},
   "outputs": [
    {
     "name": "stdout",
     "output_type": "stream",
     "text": [
      "File saved as: data.csv\n"
     ]
    }
   ],
   "source": [
    "# load the csv file & save it as data.csv\n",
    "load_save_data(load_file_path=\"data/spam.csv\", save_file_path=\"data.csv\")\n"
   ]
  },
  {
   "cell_type": "code",
   "execution_count": 27,
   "id": "398f29ec-96af-46dd-a31a-5dfa90218e5e",
   "metadata": {},
   "outputs": [
    {
     "data": {
      "text/plain": [
       "label\n",
       "ham     3000\n",
       "spam     747\n",
       "Name: count, dtype: int64"
      ]
     },
     "execution_count": 27,
     "metadata": {},
     "output_type": "execute_result"
    }
   ],
   "source": [
    "# load saved csv & look at class balance\n",
    "df = pd.read_csv(\"data.csv\")\n",
    "df.label.value_counts()"
   ]
  },
  {
   "cell_type": "markdown",
   "id": "8c917e0b-4d9b-4e3a-8dd5-768f35e91ef8",
   "metadata": {},
   "source": [
    "### Train model"
   ]
  },
  {
   "cell_type": "markdown",
   "id": "4af8093e-6b71-472e-8daf-cb83f66e6312",
   "metadata": {},
   "source": [
    "download the stopwords and punkt resoruces"
   ]
  },
  {
   "cell_type": "code",
   "execution_count": 37,
   "id": "90bd0245-9c3b-4f6c-9bda-466e190702a8",
   "metadata": {},
   "outputs": [
    {
     "name": "stderr",
     "output_type": "stream",
     "text": [
      "[nltk_data] Downloading package stopwords to\n",
      "[nltk_data]     C:\\Users\\User\\AppData\\Roaming\\nltk_data...\n",
      "[nltk_data]   Package stopwords is already up-to-date!\n",
      "[nltk_data] Downloading package punkt to\n",
      "[nltk_data]     C:\\Users\\User\\AppData\\Roaming\\nltk_data...\n",
      "[nltk_data]   Unzipping tokenizers\\punkt.zip.\n"
     ]
    },
    {
     "data": {
      "text/plain": [
       "True"
      ]
     },
     "execution_count": 37,
     "metadata": {},
     "output_type": "execute_result"
    }
   ],
   "source": [
    "import nltk\n",
    "nltk.download('stopwords')\n",
    "nltk.download('punkt')"
   ]
  },
  {
   "cell_type": "code",
   "execution_count": 35,
   "id": "43f48a6e-0f63-4303-b4b7-58fddc588e2c",
   "metadata": {},
   "outputs": [],
   "source": [
    "# import deps\n",
    "import pandas as pd\n",
    "from nltk.corpus import stopwords\n",
    "from nltk.tokenize import word_tokenize\n",
    "from nltk.stem import PorterStemmer\n",
    "from nltk.stem import WordNetLemmatizer\n",
    "from sklearn.feature_extraction.text import CountVectorizer\n",
    "from sklearn.feature_extraction.text import TfidfVectorizer\n",
    "from sklearn.model_selection import train_test_split\n",
    "from sklearn.ensemble import RandomForestClassifier\n",
    "from sklearn.metrics import accuracy_score, precision_score, recall_score, f1_score\n",
    "\n",
    "# initialize objects\n",
    "stop_words = set(stopwords.words('english'))\n",
    "stemmer = PorterStemmer()\n",
    "lemmatizer = WordNetLemmatizer()\n",
    "\n",
    "# A bsic text processing function with variations in preprocessing like stemming / lemmatization\n",
    "def preprocess_text(text):\n",
    "    words = word_tokenize(text.lower())\n",
    "    filtered_words = [word for word in words if word.isalpha()]\n",
    "    # filtered_words = [word for word in words if word.isalpha() and word not in stop_words]\n",
    "    # filtered_words = [stemmer.stem(word) for word in words if word.isalpha() and word not in stop_words]\n",
    "    # filtered_words = [lemmatizer.lemmatize(word) for word in words if word.isalpha() and word not in stop_words]\n",
    "    return ' '.join(filtered_words)\n",
    "\n",
    "# basic trainin model func with variations for vectorizing\n",
    "def train_model(x_train, y_train, n, c, d):    \n",
    "    # Create a Vectorizer to convert text data to numerical features\n",
    "    # vectorizer = CountVectorizer()\n",
    "    vectorizer = TfidfVectorizer()\n",
    "    x_train_vectorized = vectorizer.fit_transform(x_train)\n",
    "    # Initialize the Random Forest classifier\n",
    "    rf_classifier = RandomForestClassifier(n_estimators=n, criterion=c, max_depth=d)\n",
    "    # Train the classifier on the training data\n",
    "    rf_classifier.fit(x_train_vectorized, y_train)\n",
    "    pred = rf_classifier.predict(x_train_vectorized)\n",
    "    acc = accuracy_score(pred, y_train)\n",
    "    return vectorizer, rf_classifier, acc\n",
    "\n",
    "# evaluation function\n",
    "def eval_met(actual, pred):\n",
    "    acc = accuracy_score(actual, pred)\n",
    "    prc = precision_score(actual, pred, pos_label='spam')\n",
    "    rec = recall_score(actual, pred, pos_label='spam')\n",
    "    f1 = f1_score(actual, pred, pos_label='spam')\n",
    "    return acc, prc, rec, f1"
   ]
  },
  {
   "cell_type": "markdown",
   "id": "9e380e07-688e-4632-a74b-708e72be766e",
   "metadata": {},
   "source": [
    "Training and evaluation"
   ]
  },
  {
   "cell_type": "code",
   "execution_count": 40,
   "id": "81637c12-6d94-4316-9b98-b916643541c7",
   "metadata": {},
   "outputs": [
    {
     "name": "stdout",
     "output_type": "stream",
     "text": [
      "Training Accuracy: 80.080 %\n",
      "Validation Accuracy: 80.667 %\n",
      "Precision Score: 0.000 %\n",
      "Recall Score: 0.000 %\n",
      "F1 Score: 0.000 %\n"
     ]
    },
    {
     "name": "stderr",
     "output_type": "stream",
     "text": [
      "C:\\Users\\User\\Desktop\\GithubProjects\\spam-filter\\venv\\Lib\\site-packages\\sklearn\\metrics\\_classification.py:1471: UndefinedMetricWarning: Recall is ill-defined and being set to 0.0 due to no true samples. Use `zero_division` parameter to control this behavior.\n",
      "  _warn_prf(average, modifier, msg_start, len(result))\n"
     ]
    }
   ],
   "source": [
    "# Apply text preprocessing on the message column\n",
    "df['processed_message'] = df.message.apply(preprocess_text)\n",
    "\n",
    "# Split the data into features (x) and labels (y)\n",
    "x = df['processed_message']\n",
    "y = df['label']\n",
    "\n",
    "# Split the data into training and testing sets\n",
    "x_train, x_test, y_train, y_test = train_test_split(x, y, test_size=0.2, random_state=42)\n",
    "\n",
    "# Train the model\n",
    "vectorizer, model , train_acc = train_model(x_train, y_train, n=10, c='entropy', d=2)\n",
    "\n",
    "# Evaluate the model\n",
    "y_pred = model.predict(vectorizer.transform(x_test))\n",
    "acc, prc, rec, f1 = eval_met(y_pred, y_test)\n",
    "\n",
    "# Print the Results\n",
    "print(f\"Training Accuracy: {train_acc*100:.3f} %\")\n",
    "print(f\"Validation Accuracy: {acc*100:.3f} %\")\n",
    "print(f\"Precision Score: {prc*100:.3f} %\")\n",
    "print(f\"Recall Score: {rec*100:.3f} %\")\n",
    "print(f\"F1 Score: {f1*100:.3f} %\")"
   ]
  },
  {
   "cell_type": "markdown",
   "id": "3b53a282-026e-47a5-bc4a-bc2555f97a39",
   "metadata": {},
   "source": [
    "#### mlflow tracking"
   ]
  },
  {
   "cell_type": "code",
   "execution_count": 42,
   "id": "7c3b9b82-3e32-488f-9270-11d59049fef5",
   "metadata": {},
   "outputs": [
    {
     "name": "stdout",
     "output_type": "stream",
     "text": [
      "^C\n"
     ]
    }
   ],
   "source": [
    "# Run to launch MLflow server (http://localhost:500)\n",
    "# !mlflow ui"
   ]
  },
  {
   "cell_type": "code",
   "execution_count": 47,
   "id": "3887779b-1038-4db1-97a5-cc33f55f6cd9",
   "metadata": {},
   "outputs": [
    {
     "name": "stderr",
     "output_type": "stream",
     "text": [
      "2023-12-05 20:29:45.984 \n",
      "  \u001b[33m\u001b[1mWarning:\u001b[0m to view this Streamlit app on a browser, run it with the following\n",
      "  command:\n",
      "\n",
      "    streamlit run C:\\Users\\User\\Desktop\\GithubProjects\\spam-filter\\venv\\Lib\\site-packages\\ipykernel_launcher.py [ARGUMENTS]\n"
     ]
    }
   ],
   "source": [
    "# Import Libraries\n",
    "import streamlit as st  \n",
    "import pandas as pd\n",
    "from nltk.corpus import stopwords\n",
    "from nltk.tokenize import word_tokenize\n",
    "from nltk.stem import PorterStemmer\n",
    "from nltk.stem import WordNetLemmatizer\n",
    "from sklearn.model_selection import train_test_split\n",
    "from sklearn.feature_extraction.text import TfidfVectorizer\n",
    "from sklearn.ensemble import RandomForestClassifier\n",
    "from sklearn.metrics import accuracy_score, precision_score, recall_score, f1_score\n",
    "import mlflow\n",
    "import subprocess\n",
    "import os\n",
    "import webbrowser\n",
    "\n",
    "# Configure Page\n",
    "st.set_page_config(\n",
    "    page_title=\"Spam Filter\",\n",
    "    page_icon=\"🤖\", \n",
    "    layout=\"centered\",\n",
    "    initial_sidebar_state=\"expanded\") \n",
    "\n",
    "# load feature extracted data\n",
    "df = pd.read_csv(\"data.csv\")\n",
    "\n",
    "# HELPER FUNCTIONS\n",
    "# A bsic text processing function with options for with/without stop words or\n",
    "# stemming / lemmatizing\n",
    "def preprocess_text(text):\n",
    "    stop_words = set(stopwords.words('english'))\n",
    "    stemmer = PorterStemmer()\n",
    "    lemmatizer = WordNetLemmatizer()\n",
    "    words = word_tokenize(text.lower())\n",
    "    # filtered_words = [word for word in words if word.isalpha()]\n",
    "    filtered_words = [word for word in words if word.isalpha() and word not in stop_words]\n",
    "    # filtered_words = [stemmer.stem(word) for word in words if word.isalpha() and word not in stop_words]\n",
    "    # filtered_words = [lemmatizer.lemmatize(word) for word in words if word.isalpha() and word not in stop_words]\n",
    "    return ' '.join(filtered_words)\n",
    "\n",
    "# Train the model\n",
    "def train_model(exp_name, df, n, c, d):     \n",
    "    df['processed_message'] = df.message.apply(preprocess_text)\n",
    "    # Split the data into features (X) and labels (y)\n",
    "    x = df['processed_message']\n",
    "    y = df['label']\n",
    "    # Split the data into training and testing sets\n",
    "    x_train, x_test, y_train, y_test = train_test_split(x, y, test_size=0.2, random_state=42)\n",
    "    # Create or Select Experiment \n",
    "    experiment = mlflow.set_experiment(exp_name)    \n",
    "    with mlflow.start_run(experiment_id=experiment.experiment_id):          \n",
    "        # Create a Vectorizer to convert text data to numerical features: BoW / TF-IDF \n",
    "        # vectorizer = CountVectorizer()\n",
    "        vectorizer = TfidfVectorizer()\n",
    "        x_train_vectorized = vectorizer.fit_transform(x_train)          \n",
    "        x_test_vectorized = vectorizer.transform(x_test)          \n",
    "        rf_classifier = RandomForestClassifier(n_estimators=n, criterion=c, max_depth=d)\n",
    "        rf_classifier.fit(x_train_vectorized, y_train)\n",
    "        # Make predictions on the training & test set\n",
    "        y_train_pred = rf_classifier.predict(x_train_vectorized)\n",
    "        y_test_pred = rf_classifier.predict(x_test_vectorized)\n",
    "        # Evaluate the model\n",
    "        train_acc = accuracy_score(y_train, y_train_pred)\n",
    "        test_acc = accuracy_score(y_test, y_test_pred)\n",
    "        f1 = f1_score(y_test, y_test_pred, pos_label='spam')        \n",
    "        # Log Parameters & Metrics\n",
    "        mlflow.log_params({\"n_estimators\":n, \"Criterion\": c, \"Maximum Depth\": d})        \n",
    "        mlflow.log_metrics({\"Training Accuracy\": train_acc, \"Test Accuracy\": test_acc, \"F1 Score\": f1})\n",
    "        # Log Model & Vectorizer\n",
    "        mlflow.sklearn.log_model(rf_classifier, \"model\")\n",
    "        mlflow.sklearn.log_model(vectorizer, \"vectorizer\") \n",
    "    return train_acc, test_acc\n",
    "\n",
    "# Function for opening MLFlow UI directly from Streamlit\n",
    "def open_mlflow_ui():\n",
    "    # Start the MLflow tracking server as a subprocess\n",
    "    cmd = \"mlflow ui --port 5000\"\n",
    "    subprocess.Popen(cmd, shell=True)\n",
    "def open_browser(url):\n",
    "    webbrowser.open_new_tab(url)\n",
    "    \n",
    "# STREAMLIT UI   \n",
    "# Sidebar for hyperparameter tuning\n",
    "st.sidebar.title(\"Tune Hyper Params ⚙️\")\n",
    "n = st.sidebar.slider('N-Estimators',min_value=1, max_value=200, step=2, value=10)\n",
    "d = st.sidebar.slider('Max Depth', min_value=1, max_value=20, step=2, value=2)\n",
    "c = st.sidebar.selectbox('Criterion', ['gini', 'entropy', 'log_loss'], index=1)\n",
    "\n",
    "# Launch Mlflow from Streamlit\n",
    "st.sidebar.title(\"Mlflow Tracking 🔎\")    \n",
    "if st.sidebar.button(\"Launch 🚀\"):\n",
    "    open_mlflow_ui()\n",
    "    st.sidebar.success(\"MLflow Server is Live! http://localhost:5000\")\n",
    "    open_browser(\"http://localhost:5000\")\n",
    "\n",
    "# Main Page Content\n",
    "st.title(\"Spam Classifier Trainer 🤖\")\n",
    "exp_type = st.radio(\"Select Experiment Type\", ['New Experiment', 'Existing Experiment'], horizontal=True)\n",
    "if exp_type == 'New Experiment':\n",
    "    exp_name = st.text_input(\"Enter the name for New Experiment\")\n",
    "else:\n",
    "    try:\n",
    "        if os.path.exists('./mlruns'):\n",
    "            exps = [i.name for i in mlflow.search_experiments()]\n",
    "            exp_name = st.selectbox(\"Select Experiment\", exps)\n",
    "        else:\n",
    "            st.warning(\"🚨 No Previous Experiments Found! Set New Experiment ⬆️\")            \n",
    "    except:\n",
    "        st.warning(\"🚨 No Previous Experiments Found! Set New Experiment ⬆️\")\n",
    "\n",
    "# Training the model starts from here    \n",
    "if st.button(\"Train ⚙️\"):\n",
    "    with st.spinner('Feeding the data--->🧠'):\n",
    "        tr_a, ts_a = train_model(exp_name, df, n, c, d)\n",
    "    st.success('Trained!') \n",
    "    st.write(f\"Training Accuracy Achieved: {tr_a:.3f}\")  "
   ]
  }
 ],
 "metadata": {
  "kernelspec": {
   "display_name": "Python 3 (ipykernel)",
   "language": "python",
   "name": "python3"
  },
  "language_info": {
   "codemirror_mode": {
    "name": "ipython",
    "version": 3
   },
   "file_extension": ".py",
   "mimetype": "text/x-python",
   "name": "python",
   "nbconvert_exporter": "python",
   "pygments_lexer": "ipython3",
   "version": "3.11.6"
  }
 },
 "nbformat": 4,
 "nbformat_minor": 5
}
